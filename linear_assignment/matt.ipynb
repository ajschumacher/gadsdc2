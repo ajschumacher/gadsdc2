{
 "metadata": {
  "name": "",
  "signature": "sha256:cb83c1a71689c4b5d9cb1d32bb495a03125529358b83eba5fe73f95962855a06"
 },
 "nbformat": 3,
 "nbformat_minor": 0,
 "worksheets": [
  {
   "cells": [
    {
     "cell_type": "code",
     "collapsed": false,
     "input": [
      "import numpy as np\n",
      "import pandas as pd\n",
      "from scipy import sparse\n",
      "from sklearn.feature_extraction.text import TfidfVectorizer, CountVectorizer\n",
      "from patsy import dmatrices, NAAction, build_design_matrices\n",
      "from sklearn.metrics import r2_score, mean_squared_error\n",
      "from sklearn.linear_model import Lasso, LassoLars"
     ],
     "language": "python",
     "metadata": {},
     "outputs": [],
     "prompt_number": 1
    },
    {
     "cell_type": "code",
     "collapsed": false,
     "input": [
      "def PreProcess(df):\n",
      "    df['titledescription'] = df['Title'] + ' ' + df['FullDescription']\n",
      "    df['locationfull'] = df['LocationRaw'] + ' ' + df['LocationNormalized']\n",
      "    return df"
     ],
     "language": "python",
     "metadata": {},
     "outputs": [],
     "prompt_number": 2
    },
    {
     "cell_type": "code",
     "collapsed": false,
     "input": [
      "def InitializeTransformers(df):\n",
      "    vect1 = TfidfVectorizer(max_features=3000)\n",
      "    vect1.fit([str(x) for x in df['titledescription'].values])\n",
      "    vect2 = CountVectorizer(binary=True)\n",
      "    vect2.fit([str(x) for x in train['locationfull'].values])\n",
      "    (a,b) = dmatrices('SalaryNormalized ~ ContractTime + ContractType + Company + Category + SourceName', \n",
      "                   data=df, NA_action=NAAction(on_NA='drop', NA_types=[]))\n",
      "    builder = b.design_info.builder\n",
      "    return (vect1,vect2,builder)"
     ],
     "language": "python",
     "metadata": {},
     "outputs": [],
     "prompt_number": 3
    },
    {
     "cell_type": "code",
     "collapsed": false,
     "input": [
      "def ProcessData(df,vect1,vect2,builder):\n",
      "    descriptionmatrix = vect1.transform([str(x) for x in df['titledescription'].values])\n",
      "    locationmatrix = vect2.transform([str(x) for x in df['locationfull'].values])\n",
      "    # x = build_design_matrices([builder], df, return_type='dataframe', NA_action=NAAction(on_NA='drop', NA_types=[]))\n",
      "    y = df['SalaryNormalized'].values\n",
      "    #x_combo = np.hstack([np.asarray(x[0]),descriptionmatrix.toarray(),locationmatrix.toarray()])\n",
      "    x_combo = np.hstack([descriptionmatrix.toarray(),locationmatrix.toarray()])\n",
      "    return (np.asarray(y), sparse.coo_matrix(x_combo))"
     ],
     "language": "python",
     "metadata": {},
     "outputs": [],
     "prompt_number": 4
    },
    {
     "cell_type": "code",
     "collapsed": false,
     "input": [
      "train = PreProcess(pd.read_csv('train.csv'))\n",
      "(vect1,vect2,builder) = InitializeTransformers(train)\n",
      "(y, x) = ProcessData(train, vect1, vect2,builder)"
     ],
     "language": "python",
     "metadata": {},
     "outputs": [],
     "prompt_number": 5
    },
    {
     "cell_type": "code",
     "collapsed": false,
     "input": [
      "(y_test, x_test) = ProcessData(PreProcess(pd.read_csv('solution.csv')),vect1,vect2,builder)"
     ],
     "language": "python",
     "metadata": {},
     "outputs": [],
     "prompt_number": 6
    },
    {
     "cell_type": "code",
     "collapsed": false,
     "input": [
      "lasso = Lasso()\n",
      "lasso.fit(x,y)\n",
      "y_pred = lasso.predict(x_test)"
     ],
     "language": "python",
     "metadata": {},
     "outputs": [],
     "prompt_number": 7
    },
    {
     "cell_type": "code",
     "collapsed": false,
     "input": [
      "lassolars = LassoLars(alpha=2)\n",
      "lassolars.fit(x.toarray(),y)\n",
      "lars_pred = lassolars.predict(x_test)"
     ],
     "language": "python",
     "metadata": {},
     "outputs": [
      {
       "output_type": "stream",
       "stream": "stderr",
       "text": [
        "//anaconda/lib/python2.7/site-packages/sklearn/linear_model/least_angle.py:251: UserWarning: Regressors in active set degenerate. Dropping a regressor, after 263 iterations, i.e. alpha=4.282e+00, with an active set of 263 regressors, and the smallest cholesky pivot element being 1.490e-08\n",
        "  % (n_iter, alpha, n_active, diag))\n",
        "//anaconda/lib/python2.7/site-packages/sklearn/linear_model/least_angle.py:251: UserWarning: Regressors in active set degenerate. Dropping a regressor, after 263 iterations, i.e. alpha=4.282e+00, with an active set of 263 regressors, and the smallest cholesky pivot element being 1.825e-08\n",
        "  % (n_iter, alpha, n_active, diag))\n",
        "//anaconda/lib/python2.7/site-packages/sklearn/linear_model/least_angle.py:251: UserWarning: Regressors in active set degenerate. Dropping a regressor, after 288 iterations, i.e. alpha=3.994e+00, with an active set of 288 regressors, and the smallest cholesky pivot element being 1.825e-08\n",
        "  % (n_iter, alpha, n_active, diag))\n"
       ]
      },
      {
       "output_type": "stream",
       "stream": "stderr",
       "text": [
        "//anaconda/lib/python2.7/site-packages/sklearn/linear_model/least_angle.py:251: UserWarning: Regressors in active set degenerate. Dropping a regressor, after 288 iterations, i.e. alpha=3.994e+00, with an active set of 288 regressors, and the smallest cholesky pivot element being 1.490e-08\n",
        "  % (n_iter, alpha, n_active, diag))\n",
        "//anaconda/lib/python2.7/site-packages/sklearn/linear_model/least_angle.py:251: UserWarning: Regressors in active set degenerate. Dropping a regressor, after 355 iterations, i.e. alpha=3.433e+00, with an active set of 355 regressors, and the smallest cholesky pivot element being 1.054e-08\n",
        "  % (n_iter, alpha, n_active, diag))\n"
       ]
      },
      {
       "output_type": "stream",
       "stream": "stderr",
       "text": [
        "//anaconda/lib/python2.7/site-packages/sklearn/linear_model/least_angle.py:251: UserWarning: Regressors in active set degenerate. Dropping a regressor, after 380 iterations, i.e. alpha=3.237e+00, with an active set of 380 regressors, and the smallest cholesky pivot element being 1.825e-08\n",
        "  % (n_iter, alpha, n_active, diag))\n",
        "//anaconda/lib/python2.7/site-packages/sklearn/linear_model/least_angle.py:251: UserWarning: Regressors in active set degenerate. Dropping a regressor, after 405 iterations, i.e. alpha=3.077e+00, with an active set of 403 regressors, and the smallest cholesky pivot element being 2.220e-16\n",
        "  % (n_iter, alpha, n_active, diag))\n"
       ]
      }
     ],
     "prompt_number": 8
    },
    {
     "cell_type": "code",
     "collapsed": false,
     "input": [
      "sqrt(mean_squared_error(y_test, y_pred))"
     ],
     "language": "python",
     "metadata": {},
     "outputs": [
      {
       "metadata": {},
       "output_type": "pyout",
       "prompt_number": 9,
       "text": [
        "13537.01098318766"
       ]
      }
     ],
     "prompt_number": 9
    },
    {
     "cell_type": "code",
     "collapsed": false,
     "input": [
      "r2_score(y_test,y_pred)"
     ],
     "language": "python",
     "metadata": {},
     "outputs": [
      {
       "metadata": {},
       "output_type": "pyout",
       "prompt_number": 10,
       "text": [
        "0.44398954509046962"
       ]
      }
     ],
     "prompt_number": 10
    },
    {
     "cell_type": "code",
     "collapsed": false,
     "input": [
      "sqrt(mean_squared_error(y_test,lars_pred))"
     ],
     "language": "python",
     "metadata": {},
     "outputs": [
      {
       "metadata": {},
       "output_type": "pyout",
       "prompt_number": 11,
       "text": [
        "13724.505801296891"
       ]
      }
     ],
     "prompt_number": 11
    },
    {
     "cell_type": "code",
     "collapsed": false,
     "input": [
      "r2_score(y_test,lars_pred)"
     ],
     "language": "python",
     "metadata": {},
     "outputs": [
      {
       "metadata": {},
       "output_type": "pyout",
       "prompt_number": 12,
       "text": [
        "0.4284807991939602"
       ]
      }
     ],
     "prompt_number": 12
    }
   ],
   "metadata": {}
  }
 ]
}